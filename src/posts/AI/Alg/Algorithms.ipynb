{
 "cells": [
  {
   "cell_type": "markdown",
   "id": "313f2dc55ea3e7f4",
   "metadata": {
    "collapsed": false
   },
   "source": [
    "\n",
    "\n",
    "\n",
    "\n",
    "\n",
    "\n",
    "\n",
    "\n",
    "\n",
    "## Dynamic Programming"
   ]
  },
  {
   "cell_type": "markdown",
   "id": "fa3102ad67fb68b0",
   "metadata": {
    "collapsed": false
   },
   "source": [
    "### Knapsack\n",
    "Given a set of objects which have both a value v and a weight w, what is the MAXIMUM value of object combination such that the sum of weights is in the limitation of the backpack?\n",
    "\n",
    "\n",
    "src: https://github.com/TheAlgorithms/Python/blob/master/dynamic_programming/knapsack.py\n",
    "\n",
    "https://www.youtube.com/watch?v=cJ21moQpofY&t=82s"
   ]
  },
  {
   "cell_type": "code",
   "execution_count": null,
   "id": "49f3f1cf48ef00dd",
   "metadata": {
    "collapsed": false
   },
   "outputs": [],
   "source": [
    "\"\"\"\n",
    "Given weights and values of n items, put these items in a knapsack of\n",
    "capacity W to get the maximum total value in the knapsack.\n",
    "\n",
    "Note that only the integer weights 0-1 knapsack problem is solvable\n",
    "using dynamic programming.\n",
    "\"\"\"\n",
    "\n",
    "\n",
    "def mf_knapsack(i, wt, val, j):\n",
    "    \"\"\"\n",
    "    This code involves the concept of memory functions. Here we solve the subproblems\n",
    "    which are needed unlike the below example\n",
    "    F is a 2D array with -1s filled up\n",
    "    \"\"\"\n",
    "    global f  # a global dp table for knapsack\n",
    "    if f[i][j] < 0:\n",
    "        if j < wt[i - 1]:\n",
    "            val = mf_knapsack(i - 1, wt, val, j)\n",
    "        else:\n",
    "            val = max(\n",
    "                mf_knapsack(i - 1, wt, val, j),\n",
    "                mf_knapsack(i - 1, wt, val, j - wt[i - 1]) + val[i - 1],\n",
    "            )\n",
    "        f[i][j] = val\n",
    "    return f[i][j]\n",
    "\n",
    "\n",
    "def knapsack(w, wt, val, n):\n",
    "    dp = [[0] * (w + 1) for _ in range(n + 1)]\n",
    "\n",
    "    for i in range(1, n + 1):\n",
    "        for w_ in range(1, w + 1):\n",
    "            if wt[i - 1] <= w_:\n",
    "                dp[i][w_] = max(val[i - 1] + dp[i - 1][w_ - wt[i - 1]], dp[i - 1][w_])\n",
    "            else:\n",
    "                dp[i][w_] = dp[i - 1][w_]\n",
    "\n",
    "    return dp[n][w_], dp\n",
    "\n",
    "\n",
    "def knapsack_with_example_solution(w: int, wt: list, val: list):\n",
    "    \"\"\"\n",
    "    Solves the integer weights knapsack problem returns one of\n",
    "    the several possible optimal subsets.\n",
    "\n",
    "    Parameters\n",
    "    ---------\n",
    "\n",
    "    W: int, the total maximum weight for the given knapsack problem.\n",
    "    wt: list, the vector of weights for all items where wt[i] is the weight\n",
    "    of the i-th item.\n",
    "    val: list, the vector of values for all items where val[i] is the value\n",
    "    of the i-th item\n",
    "\n",
    "    Returns\n",
    "    -------\n",
    "    optimal_val: float, the optimal value for the given knapsack problem\n",
    "    example_optional_set: set, the indices of one of the optimal subsets\n",
    "    which gave rise to the optimal value.\n",
    "\n",
    "    Examples\n",
    "    -------\n",
    "    >>> knapsack_with_example_solution(10, [1, 3, 5, 2], [10, 20, 100, 22])\n",
    "    (142, {2, 3, 4})\n",
    "    >>> knapsack_with_example_solution(6, [4, 3, 2, 3], [3, 2, 4, 4])\n",
    "    (8, {3, 4})\n",
    "    >>> knapsack_with_example_solution(6, [4, 3, 2, 3], [3, 2, 4])\n",
    "    Traceback (most recent call last):\n",
    "        ...\n",
    "    ValueError: The number of weights must be the same as the number of values.\n",
    "    But got 4 weights and 3 values\n",
    "    \"\"\"\n",
    "    if not (isinstance(wt, (list, tuple)) and isinstance(val, (list, tuple))):\n",
    "        raise ValueError(\n",
    "            \"Both the weights and values vectors must be either lists or tuples\"\n",
    "        )\n",
    "\n",
    "    num_items = len(wt)\n",
    "    if num_items != len(val):\n",
    "        msg = (\n",
    "            \"The number of weights must be the same as the number of values.\\n\"\n",
    "            f\"But got {num_items} weights and {len(val)} values\"\n",
    "        )\n",
    "        raise ValueError(msg)\n",
    "    for i in range(num_items):\n",
    "        if not isinstance(wt[i], int):\n",
    "            msg = (\n",
    "                \"All weights must be integers but got weight of \"\n",
    "                f\"type {type(wt[i])} at index {i}\"\n",
    "            )\n",
    "            raise TypeError(msg)\n",
    "\n",
    "    optimal_val, dp_table = knapsack(w, wt, val, num_items)\n",
    "    example_optional_set: set = set()\n",
    "    _construct_solution(dp_table, wt, num_items, w, example_optional_set)\n",
    "\n",
    "    return optimal_val, example_optional_set\n",
    "\n",
    "\n",
    "def _construct_solution(dp: list, wt: list, i: int, j: int, optimal_set: set):\n",
    "    \"\"\"\n",
    "    Recursively reconstructs one of the optimal subsets given\n",
    "    a filled DP table and the vector of weights\n",
    "\n",
    "    Parameters\n",
    "    ---------\n",
    "\n",
    "    dp: list of list, the table of a solved integer weight dynamic programming problem\n",
    "\n",
    "    wt: list or tuple, the vector of weights of the items\n",
    "    i: int, the index of the item under consideration\n",
    "    j: int, the current possible maximum weight\n",
    "    optimal_set: set, the optimal subset so far. This gets modified by the function.\n",
    "\n",
    "    Returns\n",
    "    -------\n",
    "    None\n",
    "\n",
    "    \"\"\"\n",
    "    # for the current item i at a maximum weight j to be part of an optimal subset,\n",
    "    # the optimal value at (i, j) must be greater than the optimal value at (i-1, j).\n",
    "    # where i - 1 means considering only the previous items at the given maximum weight\n",
    "    if i > 0 and j > 0:\n",
    "        if dp[i - 1][j] == dp[i][j]:\n",
    "            _construct_solution(dp, wt, i - 1, j, optimal_set)\n",
    "        else:\n",
    "            optimal_set.add(i)\n",
    "            _construct_solution(dp, wt, i - 1, j - wt[i - 1], optimal_set)\n",
    "\n",
    "\n",
    "if __name__ == \"__main__\":\n",
    "    \"\"\"\n",
    "    Adding test case for knapsack\n",
    "    \"\"\"\n",
    "    val = [3, 2, 4, 4]\n",
    "    wt = [4, 3, 2, 3]\n",
    "    n = 4\n",
    "    w = 6\n",
    "    f = [[0] * (w + 1)] + [[0] + [-1] * (w + 1) for _ in range(n + 1)]\n",
    "    optimal_solution, _ = knapsack(w, wt, val, n)\n",
    "    print(optimal_solution)\n",
    "    print(mf_knapsack(n, wt, val, w))  # switched the n and w\n",
    "\n",
    "    # testing the dynamic programming problem with example\n",
    "    # the optimal subset for the above example are items 3 and 4\n",
    "    optimal_solution, optimal_subset = knapsack_with_example_solution(w, wt, val)\n",
    "    assert optimal_solution == 8\n",
    "    assert optimal_subset == {3, 4}\n",
    "    print(\"optimal_value = \", optimal_solution)\n",
    "    print(\"An optimal subset corresponding to the optimal value\", optimal_subset)"
   ]
  },
  {
   "cell_type": "markdown",
   "source": [],
   "metadata": {
    "collapsed": false
   },
   "id": "1c437185e2e82c74"
  },
  {
   "cell_type": "code",
   "outputs": [
    {
     "data": {
      "text/plain": "3"
     },
     "execution_count": 1,
     "metadata": {},
     "output_type": "execute_result"
    }
   ],
   "source": [
    "def AddUntil(b):\n",
    "    i = 1\n",
    "    total = i\n",
    "    while total <= b: # while this condition satisfied\n",
    "        i +=1\n",
    "        total +=i\n",
    "    return i\n",
    "\n",
    "AddUntil(5)"
   ],
   "metadata": {
    "collapsed": false,
    "ExecuteTime": {
     "end_time": "2024-09-17T03:35:49.536190400Z",
     "start_time": "2024-09-17T03:35:49.494184400Z"
    }
   },
   "id": "c346148d2c139a63",
   "execution_count": 1
  },
  {
   "cell_type": "code",
   "outputs": [
    {
     "name": "stdout",
     "output_type": "stream",
     "text": [
      "[1, 1]\n",
      "[2, 1]\n"
     ]
    }
   ],
   "source": [
    "F = [1,1]\n",
    "print(F)\n",
    "F[0] = 2\n",
    "F[1] = 1\n",
    "print(F)"
   ],
   "metadata": {
    "collapsed": false,
    "ExecuteTime": {
     "end_time": "2024-09-17T03:49:06.899009200Z",
     "start_time": "2024-09-17T03:49:06.851990Z"
    }
   },
   "id": "a2c786212541a997",
   "execution_count": 4
  },
  {
   "cell_type": "code",
   "outputs": [
    {
     "name": "stdout",
     "output_type": "stream",
     "text": [
      "[0, 0, 0, 0, 0, 0, 0]\n",
      "[1, 1, 0, 0, 0, 0, 0]\n",
      "[1, 1, 2, 3, 5, 8, 13]\n"
     ]
    },
    {
     "data": {
      "text/plain": "13"
     },
     "execution_count": 14,
     "metadata": {},
     "output_type": "execute_result"
    }
   ],
   "source": [
    "def Febonacci(n):\n",
    "    F = [0] * n\n",
    "    print(F)\n",
    "    F[0]=1\n",
    "    F[1]=1\n",
    "    print(F)\n",
    "    for i in range(2, n):\n",
    "        F[i] = F[i-1]+F[i-2]\n",
    "    print(F)\n",
    "    return F[n-1]\n",
    "\n",
    "Febonacci(7)"
   ],
   "metadata": {
    "collapsed": false,
    "ExecuteTime": {
     "end_time": "2024-09-17T03:53:36.911267500Z",
     "start_time": "2024-09-17T03:53:36.891267600Z"
    }
   },
   "id": "3b5da4c15135ed7d",
   "execution_count": 14
  },
  {
   "cell_type": "markdown",
   "source": [
    "### Global sequence alignment"
   ],
   "metadata": {
    "collapsed": false
   },
   "id": "ef0de318e7378953"
  },
  {
   "cell_type": "code",
   "outputs": [],
   "source": [
    "import numpy as np\n",
    "\n",
    "# Sequences\n",
    "seqA = \"GATCAGATCGA\"\n",
    "seqB = \"GGTAACGT\"\n",
    "\n",
    "# Scoring system\n",
    "match_score = 5\n",
    "mismatch_score = -2\n",
    "indel_penalty = -6\n",
    "\n",
    "# Lengths of the sequences\n",
    "lenA = len(seqA)\n",
    "lenB = len(seqB)\n",
    "\n",
    "# Create a scoring matrix\n",
    "score_matrix = np.zeros((lenA + 1, lenB + 1))\n",
    "\n",
    "# Initialize the scoring matrix\n",
    "for i in range(lenA + 1):\n",
    "    score_matrix[i][0] = i * indel_penalty\n",
    "for j in range(lenB + 1):\n",
    "    score_matrix[0][j] = j * indel_penalty\n",
    "\n",
    "# Fill the scoring matrix\n",
    "for i in range(1, lenA + 1):\n",
    "    for j in range(1, lenB + 1):\n",
    "        if seqA[i - 1] == seqB[j - 1]:\n",
    "            score_diagonal = score_matrix[i - 1][j - 1] + match_score\n",
    "        else:\n",
    "            score_diagonal = score_matrix[i - 1][j - 1] + mismatch_score\n",
    "        \n",
    "        score_up = score_matrix[i - 1][j] + indel_penalty  # Deletion\n",
    "        score_left = score_matrix[i][j - 1] + indel_penalty  # Insertion\n",
    "        \n",
    "        score_matrix[i][j] = max(score_diagonal, score_up, score_left)\n",
    "\n",
    "# The optimum alignment score is the value in the bottom-right cell of the matrix\n",
    "optimum_score = score_matrix[lenA][lenB]\n",
    "score_matrix, optimum_score"
   ],
   "metadata": {
    "collapsed": false
   },
   "id": "734e8592b3f7d3ac"
  },
  {
   "cell_type": "code",
   "outputs": [],
   "source": [],
   "metadata": {
    "collapsed": false
   },
   "id": "74ac411d449f3574"
  }
 ],
 "metadata": {
  "kernelspec": {
   "display_name": "Python 3",
   "language": "python",
   "name": "python3"
  },
  "language_info": {
   "codemirror_mode": {
    "name": "ipython",
    "version": 2
   },
   "file_extension": ".py",
   "mimetype": "text/x-python",
   "name": "python",
   "nbconvert_exporter": "python",
   "pygments_lexer": "ipython2",
   "version": "2.7.6"
  }
 },
 "nbformat": 4,
 "nbformat_minor": 5
}
